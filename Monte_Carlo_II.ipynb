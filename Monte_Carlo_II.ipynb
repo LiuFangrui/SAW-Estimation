{
 "cells": [
  {
   "cell_type": "code",
   "execution_count": 8,
   "metadata": {},
   "outputs": [
    {
     "name": "stdout",
     "output_type": "stream",
     "text": [
      "Estimated c_0: 1.0\n",
      "Estimated c_1: 4.0\n",
      "Estimated c_2: 12.0\n",
      "Estimated c_3: 36.0\n",
      "Estimated c_4: 99.96804\n",
      "Estimated c_5: 283.82724\n",
      "Estimated c_6: 780.2892\n",
      "Estimated c_7: 2171.81736\n",
      "Estimated c_8: 5913.5994\n",
      "Estimated c_9: 16268.283\n",
      "Estimated c_10: 44151.48648\n"
     ]
    }
   ],
   "source": [
    "# Basic Monte Carlo II\n",
    "\n",
    "import random\n",
    "import numpy as np\n",
    "\n",
    "def generate_walk(L):\n",
    "    \"\"\"\n",
    "    Generates a self-avoiding walk (SAW) of length L using importance sampling.\n",
    "\n",
    "    The walk starts at the origin (0,0). At each step, a move is chosen uniformly \n",
    "    from the set of available self-avoiding moves. The function calculates \n",
    "    a realisation of the importance sampling estimate, which is the product of \n",
    "    the number of valid choices at each step.\n",
    "\n",
    "    If a walk reaches a dead end (no valid moves left), it stays in place for \n",
    "    the remaining steps.\n",
    "\n",
    "    The realisations of multiple runs of the function are averaged to obtain\n",
    "    an estimate of the expected value of c_L.\n",
    "\n",
    "    Returns:\n",
    "        realisation (int): A single realisation of the Monte Carlo estimate for c_L.\n",
    "    \"\"\"\n",
    "    pos = (0, 0)  # Start at the origin\n",
    "    visited = {pos}  # Track visited positions to ensure self-avoidance\n",
    "    moves = [(0, 1), (1, 0), (0, -1), (-1, 0)]  # Possible moves (Up, Right, Down, Left)\n",
    "    realisation = 1  # Stores the computed realisation\n",
    "\n",
    "    for _ in range(L): # Loop over each step of the walk\n",
    "        valid_moves = []\n",
    "        \n",
    "        # Check all possible moves and keep only the valid (non-visited) ones\n",
    "        for move in moves:\n",
    "            new_pos = (pos[0] + move[0], pos[1] + move[1])\n",
    "            if new_pos not in visited:\n",
    "                valid_moves.append(move)\n",
    "        \n",
    "        # Multiply by the number of valid moves to compute the realisation\n",
    "        realisation *= len(valid_moves)\n",
    "        \n",
    "        # If valid moves exist, choose one randomly and update position\n",
    "        if valid_moves:\n",
    "            dx, dy = random.choice(valid_moves)\n",
    "            new_pos = (pos[0] + dx, pos[1] + dy)\n",
    "            visited.add(new_pos)\n",
    "            pos = new_pos\n",
    "\n",
    "    return realisation  # This is one realization of our Monte Carlo estimate for c_L\n",
    "\n",
    "# Compute Monte Carlo estimates for c_L for L = 0 to 10 using 100,000 samples per length\n",
    "for i in range(11):\n",
    "    samples = [generate_walk(i) for _ in range(100000)]\n",
    "    print(f\"Estimated c_{i}: {np.mean(samples)}\")"
   ]
  }
 ],
 "metadata": {
  "kernelspec": {
   "display_name": "Python 3",
   "language": "python",
   "name": "python3"
  },
  "language_info": {
   "codemirror_mode": {
    "name": "ipython",
    "version": 3
   },
   "file_extension": ".py",
   "mimetype": "text/x-python",
   "name": "python",
   "nbconvert_exporter": "python",
   "pygments_lexer": "ipython3",
   "version": "3.12.7"
  }
 },
 "nbformat": 4,
 "nbformat_minor": 2
}
