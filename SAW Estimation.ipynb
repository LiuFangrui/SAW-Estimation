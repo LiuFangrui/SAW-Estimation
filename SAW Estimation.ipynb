{
 "cells": [
  {
   "cell_type": "code",
   "execution_count": null,
   "metadata": {},
   "outputs": [
    {
     "name": "stdout",
     "output_type": "stream",
     "text": [
      "12\n"
     ]
    }
   ],
   "source": [
    "# Basic Deterministic Methods\n",
    "def count_sarw(L, pos=(0, 0), visited=None):\n",
    "    if visited is None:\n",
    "        visited = set()\n",
    "    \n",
    "    if L == 0:\n",
    "        return 1\n",
    "    \n",
    "    visited.add(pos)\n",
    "    \n",
    "    moves = [(0, 1), (1, 0), (0, -1), (-1, 0)]  # Up, Right, Down, Left\n",
    "    count = 0\n",
    "    \n",
    "    for dx, dy in moves:\n",
    "        new_pos = (pos[0] + dx, pos[1] + dy)\n",
    "        if new_pos not in visited:\n",
    "            count += count_sarw(L - 1, new_pos, visited.copy())\n",
    "    \n",
    "    return count\n",
    "\n",
    "L = 2  # Example walk length\n",
    "print(count_sarw(L))\n"
   ]
  },
  {
   "cell_type": "code",
   "execution_count": null,
   "metadata": {},
   "outputs": [
    {
     "name": "stdout",
     "output_type": "stream",
     "text": [
      "0.192\n"
     ]
    }
   ],
   "source": [
    "# Basic Monte Carlo I\n",
    "import random\n",
    "\n",
    "def random_walk(L):\n",
    "    pos = (0, 0)\n",
    "    visited = {pos}\n",
    "    moves = [(0, 1), (1, 0), (0, -1), (-1, 0)]  # Up, Right, Down, Left\n",
    "    \n",
    "    for _ in range(L):\n",
    "        dx, dy = random.choice(moves)\n",
    "        new_pos = (pos[0] + dx, pos[1] + dy)\n",
    "        if new_pos in visited:\n",
    "            return False  # Not a self-avoiding walk\n",
    "        visited.add(new_pos)\n",
    "        pos = new_pos\n",
    "    \n",
    "    return True  # Self-avoiding walk\n",
    "\n",
    "def estimate_sarw_fraction(L, trials=10000):\n",
    "    count_sarw = sum(random_walk(L) for _ in range(trials))\n",
    "    return count_sarw / trials\n",
    "\n",
    "L = 6  # Example walk length\n",
    "trials = 10000  # Number of trials\n",
    "print(estimate_sarw_fraction(L, trials))"
   ]
  },
  {
   "cell_type": "code",
   "execution_count": null,
   "metadata": {},
   "outputs": [],
   "source": [
    "# Basic Monte Carlo II (untested)\n",
    "def sophisticated_random_walk(L):\n",
    "    pos = (0, 0)\n",
    "    visited = {pos}\n",
    "    moves = [(0, 1), (1, 0), (0, -1), (-1, 0)]  # Up, Right, Down, Left\n",
    "    \n",
    "    walk = [pos]\n",
    "    for _ in range(L - 1):\n",
    "        valid_moves = [(pos[0] + dx, pos[1] + dy) for dx, dy in moves if (pos[0] + dx, pos[1] + dy) not in visited]\n",
    "        \n",
    "        if valid_moves:\n",
    "            pos = random.choice(valid_moves)\n",
    "            visited.add(pos)\n",
    "        \n",
    "        walk.append(pos)\n",
    "    \n",
    "    return walk\n",
    "\n",
    "def estimate_c_N(L, trials=10000):\n",
    "    total_walks = 0\n",
    "    self_avoiding_walks = 0\n",
    "    \n",
    "    for _ in range(trials):\n",
    "        walk = sophisticated_random_walk(L)\n",
    "        total_walks += 1\n",
    "        if len(set(walk)) == L:  # Fully self-avoiding\n",
    "            self_avoiding_walks += 1\n",
    "    \n",
    "    return self_avoiding_walks / total_walks\n",
    "\n",
    "L = 6  # Example walk length\n",
    "trials = 10000  # Number of trials\n",
    "print(estimate_c_N(L, trials))"
   ]
  }
 ],
 "metadata": {
  "kernelspec": {
   "display_name": "Python 3",
   "language": "python",
   "name": "python3"
  },
  "language_info": {
   "codemirror_mode": {
    "name": "ipython",
    "version": 3
   },
   "file_extension": ".py",
   "mimetype": "text/x-python",
   "name": "python",
   "nbconvert_exporter": "python",
   "pygments_lexer": "ipython3",
   "version": "3.12.9"
  }
 },
 "nbformat": 4,
 "nbformat_minor": 2
}
