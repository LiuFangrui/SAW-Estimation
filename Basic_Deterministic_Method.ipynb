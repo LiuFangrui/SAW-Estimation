{
 "cells": [
  {
   "cell_type": "code",
   "execution_count": null,
   "metadata": {},
   "outputs": [
    {
     "name": "stdout",
     "output_type": "stream",
     "text": [
      "c_0 = 1\n",
      "c_1 = 4\n",
      "c_2 = 12\n",
      "c_3 = 36\n",
      "c_4 = 100\n",
      "c_5 = 284\n",
      "c_6 = 780\n",
      "c_7 = 2172\n",
      "c_8 = 5916\n",
      "c_9 = 16268\n",
      "c_10 = 44100\n"
     ]
    }
   ],
   "source": [
    "# Basic Deterministic Methods\n",
    "def count_sarw(L, pos=(0, 0), visited=None):\n",
    "    if visited is None:\n",
    "        visited = set()\n",
    "    \n",
    "    if L == 0:\n",
    "        return 1\n",
    "    \n",
    "    visited.add(pos)\n",
    "    \n",
    "    moves = [(0, 1), (1, 0), (0, -1), (-1, 0)]  # Up, Right, Down, Left\n",
    "    count = 0\n",
    "    \n",
    "    for dx, dy in moves:\n",
    "        new_pos = (pos[0] + dx, pos[1] + dy)\n",
    "        if new_pos not in visited:\n",
    "            count += count_sarw(L - 1, new_pos, visited.copy())\n",
    "    \n",
    "    return count\n",
    "\n",
    "for L in range(11):\n",
    "    print(f\"c_{L} = {count_sarw(L)}\")"
   ]
  }
 ],
 "metadata": {
  "kernelspec": {
   "display_name": "Python 3",
   "language": "python",
   "name": "python3"
  },
  "language_info": {
   "codemirror_mode": {
    "name": "ipython",
    "version": 3
   },
   "file_extension": ".py",
   "mimetype": "text/x-python",
   "name": "python",
   "nbconvert_exporter": "python",
   "pygments_lexer": "ipython3",
   "version": "3.12.7"
  }
 },
 "nbformat": 4,
 "nbformat_minor": 2
}
