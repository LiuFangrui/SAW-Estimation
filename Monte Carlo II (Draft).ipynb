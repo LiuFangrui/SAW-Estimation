{
 "cells": [
  {
   "cell_type": "code",
   "execution_count": 27,
   "metadata": {},
   "outputs": [
    {
     "name": "stdout",
     "output_type": "stream",
     "text": [
      "1.0\n",
      "4.0\n",
      "12.0\n",
      "36.0\n",
      "100.00296\n",
      "284.0346\n",
      "780.56784\n",
      "2170.3788\n",
      "5910.4728\n",
      "16272.09648\n",
      "44112.57732\n"
     ]
    }
   ],
   "source": [
    "# Basic Monte Carlo II\n",
    "\n",
    "import random\n",
    "import numpy as np\n",
    "\n",
    "def generate_walk(L):\n",
    "    pos = (0, 0)\n",
    "    visited = {pos}\n",
    "    moves = [(0, 1), (1, 0), (0, -1), (-1, 0)]  # Up, Right, Down, Left\n",
    "    weight = 1\n",
    "\n",
    "    for _ in range(L):\n",
    "        valid_moves = []\n",
    "        for move in moves:\n",
    "            new_pos = (pos[0] + move[0], pos[1] + move[1])\n",
    "            if new_pos not in visited:\n",
    "                valid_moves.append(move)\n",
    "        weight *= len(valid_moves)\n",
    "        if len(valid_moves) > 0:\n",
    "            dx, dy = random.choice(valid_moves)\n",
    "            new_pos = (pos[0] + dx, pos[1] + dy)\n",
    "            visited.add(new_pos)\n",
    "            pos = new_pos\n",
    "    return weight\n",
    "\n",
    "for i in range(11):\n",
    "    walk_weights = []\n",
    "    for j in range(100000):\n",
    "        walk_weights.append(generate_walk(i))\n",
    "    print(np.mean(walk_weights))"
   ]
  }
 ],
 "metadata": {
  "kernelspec": {
   "display_name": "Python 3",
   "language": "python",
   "name": "python3"
  },
  "language_info": {
   "codemirror_mode": {
    "name": "ipython",
    "version": 3
   },
   "file_extension": ".py",
   "mimetype": "text/x-python",
   "name": "python",
   "nbconvert_exporter": "python",
   "pygments_lexer": "ipython3",
   "version": "3.12.7"
  }
 },
 "nbformat": 4,
 "nbformat_minor": 2
}
